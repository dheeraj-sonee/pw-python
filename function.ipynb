{
 "cells": [
  {
   "cell_type": "markdown",
   "id": "aa00d98b",
   "metadata": {},
   "source": [
    "Q1. Which keyword is used to create a function? Create a function to return a list of odd numbers in the\n",
    "range of 1 to 25."
   ]
  },
  {
   "cell_type": "markdown",
   "id": "2d73a54b",
   "metadata": {},
   "source": [
    "'def' keyword is used to create the function."
   ]
  },
  {
   "cell_type": "code",
   "execution_count": 1,
   "id": "dd93da51",
   "metadata": {},
   "outputs": [
    {
     "name": "stdout",
     "output_type": "stream",
     "text": [
      "[1, 3, 5, 7, 9, 11, 13, 15, 17, 19, 21, 23]\n"
     ]
    }
   ],
   "source": [
    "def odd_num(n,m):\n",
    "    l=[]\n",
    "    for i in range(n,m):\n",
    "        if i%2!=0:\n",
    "            l.append(i)\n",
    "    return l       \n",
    "print(odd_num(1,25))"
   ]
  },
  {
   "cell_type": "markdown",
   "id": "a7df1d5a",
   "metadata": {},
   "source": [
    "Q2. Why *args and **kwargs is used in some functions? Create a function each for *args and **kwargs to\n",
    "demonstrate their use."
   ]
  },
  {
   "cell_type": "markdown",
   "id": "7e1fc693",
   "metadata": {},
   "source": []
  },
  {
   "cell_type": "markdown",
   "id": "8d3a84d5",
   "metadata": {},
   "source": [
    "the *args used to take any number of arguments in the function, and **kwargs used to to take any number of key word arguments in function."
   ]
  },
  {
   "cell_type": "code",
   "execution_count": 6,
   "id": "e9589055",
   "metadata": {},
   "outputs": [
    {
     "data": {
      "text/plain": [
       "[1, 3, 5, 7, 9]"
      ]
     },
     "execution_count": 6,
     "metadata": {},
     "output_type": "execute_result"
    }
   ],
   "source": [
    "#  *args\n",
    "\n",
    "def odd_num(*args):\n",
    "    l =[]\n",
    "    for i in range(*args):\n",
    "        if i % 2 !=0:\n",
    "            l.append(i)\n",
    "    return l\n",
    "\n",
    "odd_num(1,10)"
   ]
  },
  {
   "cell_type": "code",
   "execution_count": 7,
   "id": "6d80cd5b",
   "metadata": {},
   "outputs": [
    {
     "name": "stdout",
     "output_type": "stream",
     "text": [
      "('c', [1, 2, 3])\n"
     ]
    }
   ],
   "source": [
    "# **kwargs\n",
    "def find_list(**kwargs):\n",
    "    for key, value in kwargs.items():\n",
    "        if type(value) == list:\n",
    "            return key, value\n",
    "        \n",
    "        \n",
    "print(find_list(a=\"dheeraj\", b = 1, c = [1,2,3]))"
   ]
  },
  {
   "cell_type": "code",
   "execution_count": null,
   "id": "79a611d0",
   "metadata": {},
   "outputs": [],
   "source": []
  }
 ],
 "metadata": {
  "kernelspec": {
   "display_name": "base",
   "language": "python",
   "name": "python3"
  },
  "language_info": {
   "codemirror_mode": {
    "name": "ipython",
    "version": 3
   },
   "file_extension": ".py",
   "mimetype": "text/x-python",
   "name": "python",
   "nbconvert_exporter": "python",
   "pygments_lexer": "ipython3",
   "version": "3.11.5"
  }
 },
 "nbformat": 4,
 "nbformat_minor": 5
}
