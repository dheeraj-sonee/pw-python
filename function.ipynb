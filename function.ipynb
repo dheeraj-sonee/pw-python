{
 "cells": [
  {
   "cell_type": "markdown",
   "id": "aa00d98b",
   "metadata": {},
   "source": [
    "Q1. Which keyword is used to create a function? Create a function to return a list of odd numbers in the\n",
    "range of 1 to 25."
   ]
  },
  {
   "cell_type": "markdown",
   "id": "2d73a54b",
   "metadata": {},
   "source": [
    "'def' keyword is used to create the function."
   ]
  },
  {
   "cell_type": "code",
   "execution_count": 1,
   "id": "dd93da51",
   "metadata": {},
   "outputs": [
    {
     "name": "stdout",
     "output_type": "stream",
     "text": [
      "[1, 3, 5, 7, 9, 11, 13, 15, 17, 19, 21, 23]\n"
     ]
    }
   ],
   "source": [
    "def odd_num(n,m):\n",
    "    l=[]\n",
    "    for i in range(n,m):\n",
    "        if i%2!=0:\n",
    "            l.append(i)\n",
    "    return l       \n",
    "print(odd_num(1,25))"
   ]
  },
  {
   "cell_type": "markdown",
   "id": "7e1fc693",
   "metadata": {},
   "source": []
  }
 ],
 "metadata": {
  "kernelspec": {
   "display_name": "base",
   "language": "python",
   "name": "python3"
  },
  "language_info": {
   "name": "python",
   "version": "3.11.5"
  }
 },
 "nbformat": 4,
 "nbformat_minor": 5
}
