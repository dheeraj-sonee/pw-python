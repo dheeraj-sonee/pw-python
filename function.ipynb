{
 "cells": [
  {
   "cell_type": "markdown",
   "id": "aa00d98b",
   "metadata": {},
   "source": [
    "Q1. Which keyword is used to create a function? Create a function to return a list of odd numbers in the\n",
    "range of 1 to 25."
   ]
  },
  {
   "cell_type": "markdown",
   "id": "2d73a54b",
   "metadata": {},
   "source": [
    "'def' keyword is used to create the function."
   ]
  },
  {
   "cell_type": "code",
   "execution_count": null,
   "id": "dd93da51",
   "metadata": {
    "vscode": {
     "languageId": "plaintext"
    }
   },
   "outputs": [],
   "source": []
  },
  {
   "cell_type": "markdown",
   "id": "7e1fc693",
   "metadata": {},
   "source": []
  }
 ],
 "metadata": {
  "language_info": {
   "name": "python"
  }
 },
 "nbformat": 4,
 "nbformat_minor": 5
}
