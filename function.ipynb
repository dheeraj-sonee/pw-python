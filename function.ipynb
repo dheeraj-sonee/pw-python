{
 "cells": [
  {
   "cell_type": "markdown",
   "id": "aa00d98b",
   "metadata": {},
   "source": [
    "Q1. Which keyword is used to create a function? Create a function to return a list of odd numbers in the\n",
    "range of 1 to 25."
   ]
  },
  {
   "cell_type": "markdown",
   "id": "2d73a54b",
   "metadata": {},
   "source": [
    "'def' keyword is used to create the function."
   ]
  },
  {
   "cell_type": "code",
   "execution_count": 1,
   "id": "dd93da51",
   "metadata": {},
   "outputs": [
    {
     "name": "stdout",
     "output_type": "stream",
     "text": [
      "[1, 3, 5, 7, 9, 11, 13, 15, 17, 19, 21, 23]\n"
     ]
    }
   ],
   "source": [
    "def odd_num(n,m):\n",
    "    l=[]\n",
    "    for i in range(n,m):\n",
    "        if i%2!=0:\n",
    "            l.append(i)\n",
    "    return l       \n",
    "print(odd_num(1,25))"
   ]
  },
  {
   "cell_type": "markdown",
   "id": "a7df1d5a",
   "metadata": {},
   "source": [
    "Q2. Why *args and **kwargs is used in some functions? Create a function each for *args and **kwargs to\n",
    "demonstrate their use."
   ]
  },
  {
   "cell_type": "markdown",
   "id": "7e1fc693",
   "metadata": {},
   "source": []
  },
  {
   "cell_type": "markdown",
   "id": "8d3a84d5",
   "metadata": {},
   "source": [
    "the *args used to take any number of arguments in the function, and **kwargs used to to take any number of key word arguments in function."
   ]
  },
  {
   "cell_type": "code",
   "execution_count": 6,
   "id": "e9589055",
   "metadata": {},
   "outputs": [
    {
     "data": {
      "text/plain": [
       "[1, 3, 5, 7, 9]"
      ]
     },
     "execution_count": 6,
     "metadata": {},
     "output_type": "execute_result"
    }
   ],
   "source": [
    "#  *args\n",
    "\n",
    "def odd_num(*args):\n",
    "    l =[]\n",
    "    for i in range(*args):\n",
    "        if i % 2 !=0:\n",
    "            l.append(i)\n",
    "    return l\n",
    "\n",
    "odd_num(1,10)"
   ]
  },
  {
   "cell_type": "code",
   "execution_count": 7,
   "id": "6d80cd5b",
   "metadata": {},
   "outputs": [
    {
     "name": "stdout",
     "output_type": "stream",
     "text": [
      "('c', [1, 2, 3])\n"
     ]
    }
   ],
   "source": [
    "# **kwargs\n",
    "def find_list(**kwargs):\n",
    "    for key, value in kwargs.items():\n",
    "        if type(value) == list:\n",
    "            return key, value\n",
    "        \n",
    "        \n",
    "print(find_list(a=\"dheeraj\", b = 1, c = [1,2,3]))"
   ]
  },
  {
   "cell_type": "markdown",
   "id": "d97b4fb7",
   "metadata": {},
   "source": [
    "Q3. - What is an iterator in python? Name the method used to initialise the iterator object and the method\n",
    "used for iteration. Use these methods to print the first five elements of the given list [2, 4, 6, 8, 10, 12, 14, 16,\n",
    "18, 20]."
   ]
  },
  {
   "cell_type": "markdown",
   "id": "fe67b80a",
   "metadata": {},
   "source": [
    "An iterator is an object in Python that allows you to iterate over (i.e., loop through) a sequence of elements, such as a list, tuple, or string, one element at a time.\n",
    "__iter__() → Initializes the iterator object and returns the iterator itself.\n",
    "\n",
    "__next__() → Returns the next element in the sequence. Raises StopIteration when items are exhausted.\n"
   ]
  },
  {
   "cell_type": "code",
   "execution_count": 2,
   "id": "3318c2d9",
   "metadata": {},
   "outputs": [
    {
     "name": "stdout",
     "output_type": "stream",
     "text": [
      "2\n",
      "4\n",
      "6\n",
      "8\n",
      "10\n"
     ]
    }
   ],
   "source": [
    "numbers = [2, 4, 6, 8, 10, 12, 14, 16, 18, 20]\n",
    "\n",
    "\n",
    "it = iter(numbers)  \n",
    "\n",
    "print(next(it))  \n",
    "print(next(it))  \n",
    "print(next(it))  \n",
    "print(next(it))  \n",
    "print(next(it))"
   ]
  },
  {
   "cell_type": "code",
   "execution_count": 3,
   "id": "3033b70b",
   "metadata": {},
   "outputs": [
    {
     "name": "stdout",
     "output_type": "stream",
     "text": [
      "2\n",
      "4\n",
      "6\n",
      "8\n",
      "10\n"
     ]
    }
   ],
   "source": [
    "\n",
    "numbers = [2, 4, 6, 8, 10, 12, 14, 16, 18, 20]\n",
    "\n",
    "\n",
    "it = iter(numbers)\n",
    "\n",
    "for _ in range(5):\n",
    "    print(next(it))\n"
   ]
  },
  {
   "cell_type": "code",
   "execution_count": null,
   "id": "8ea03c00",
   "metadata": {},
   "outputs": [],
   "source": []
  }
 ],
 "metadata": {
  "kernelspec": {
   "display_name": "base",
   "language": "python",
   "name": "python3"
  },
  "language_info": {
   "codemirror_mode": {
    "name": "ipython",
    "version": 3
   },
   "file_extension": ".py",
   "mimetype": "text/x-python",
   "name": "python",
   "nbconvert_exporter": "python",
   "pygments_lexer": "ipython3",
   "version": "3.11.5"
  }
 },
 "nbformat": 4,
 "nbformat_minor": 5
}
